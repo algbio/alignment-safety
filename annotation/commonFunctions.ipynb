{
 "cells": [
  {
   "cell_type": "code",
   "execution_count": 1,
   "id": "31f3d523",
   "metadata": {},
   "outputs": [],
   "source": [
    "# it creates an array composed as consecutives pair from the input list \n",
    "from itertools import islice\n",
    "def split_pairs(it, size):\n",
    "    it = iter(it)\n",
    "    return iter(lambda: tuple(islice(it, size)), ())"
   ]
  },
  {
   "cell_type": "code",
   "execution_count": 2,
   "id": "3dbd8ac7",
   "metadata": {},
   "outputs": [],
   "source": [
    "# identify the commong matching string between two strings;\n",
    "def longestMatchingSubstring(string1, string2):\n",
    "    answer = \"\"\n",
    "    len1, len2 = len(string1), len(string2)\n",
    "    for i in range(len1):\n",
    "        for j in range(len2):\n",
    "            lcs_temp=0\n",
    "            match=''\n",
    "            while ((i+lcs_temp < len1) and (j+lcs_temp<len2) and string1[i+lcs_temp] == string2[j+lcs_temp]):\n",
    "                match += string2[j+lcs_temp]\n",
    "                lcs_temp+=1\n",
    "            if (len(match) > len(answer)):\n",
    "                answer = match\n",
    "    return answer"
   ]
  },
  {
   "cell_type": "code",
   "execution_count": 3,
   "id": "63b727be",
   "metadata": {},
   "outputs": [],
   "source": [
    "# find longest matching string in a list of strings\n",
    "from difflib import SequenceMatcher\n",
    "import operator\n",
    "def maxMatchingString(setofStrings):\n",
    "    \n",
    "    subReads = { }\n",
    "\n",
    "    for i in range(0, len(setofStrings)):\n",
    "        for j in range(i+1,len(setofStrings)):\n",
    "            string1 = setofStrings[i]\n",
    "            string2 = setofStrings[j]\n",
    "            match = SequenceMatcher(None, string1, string2).find_longest_match(0, len(string1), 0, len(string2))\n",
    "            matching_substring=string1[match.a:match.a+match.size]\n",
    "            if(matching_substring not in subReads):\n",
    "                subReads[matching_substring]=1\n",
    "            else:\n",
    "                subReads[matching_substring]+=1\n",
    "    \n",
    "    if len(subReads.items()) >= 1:\n",
    "        maxRead =max(subReads.items(), key=operator.itemgetter(1))[0]\n",
    "    else:\n",
    "        maxRead = ''\n",
    "    \n",
    "    return maxRead\n",
    "\n"
   ]
  }
 ],
 "metadata": {
  "kernelspec": {
   "display_name": "Python 3",
   "language": "python",
   "name": "python3"
  },
  "language_info": {
   "codemirror_mode": {
    "name": "ipython",
    "version": 3
   },
   "file_extension": ".py",
   "mimetype": "text/x-python",
   "name": "python",
   "nbconvert_exporter": "python",
   "pygments_lexer": "ipython3",
   "version": "3.8.8"
  }
 },
 "nbformat": 4,
 "nbformat_minor": 5
}
