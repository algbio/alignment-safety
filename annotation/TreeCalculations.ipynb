{
 "cells": [
  {
   "cell_type": "code",
   "execution_count": null,
   "id": "86a4ae96",
   "metadata": {},
   "outputs": [],
   "source": [
    "import sys\n",
    "print(sys.version)\n",
    "import numpy as np\n",
    "from matplotlib import rcParams\n",
    "from collections import Counter\n",
    "import re\n",
    "from matplotlib import colors as mcolors\n",
    "from os import listdir\n",
    "from os.path import isfile, join\n",
    "KT = 3\n",
    "from ipynb.fs.full.commonFunctions import *\n",
    "from ipynb.fs.full.OutPuts import *\n",
    "from ipynb.fs.full.InPut import *\n",
    "from ipynb.fs.full.Code import *\n",
    "#from IPython.core.display import display, HTML\n",
    "#display(HTML(\"<style>.container { width:100% !important; }</style>\"))"
   ]
  },
  {
   "cell_type": "code",
   "execution_count": null,
   "id": "65648786",
   "metadata": {},
   "outputs": [],
   "source": []
  }
 ],
 "metadata": {
  "kernelspec": {
   "display_name": "Python 3",
   "language": "python",
   "name": "python3"
  },
  "language_info": {
   "codemirror_mode": {
    "name": "ipython",
    "version": 3
   },
   "file_extension": ".py",
   "mimetype": "text/x-python",
   "name": "python",
   "nbconvert_exporter": "python",
   "pygments_lexer": "ipython3",
   "version": "3.8.8"
  }
 },
 "nbformat": 4,
 "nbformat_minor": 5
}
