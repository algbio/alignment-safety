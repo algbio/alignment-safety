{
 "cells": [
  {
   "cell_type": "code",
   "execution_count": 1,
   "metadata": {},
   "outputs": [],
   "source": [
    "import pandas as pd"
   ]
  },
  {
   "cell_type": "code",
   "execution_count": 4,
   "metadata": {},
   "outputs": [],
   "source": [
    "df = pd.read_csv(\"./../data/uniprot_sprot.40.multi-step.clusters/hmmsearch/A0A5P9NYS6.out\", delimiter=r\"\\s+\", comment=\"#\", usecols=[0,2,4,5,6,7,8,9]) \n",
    "df.columns = [\"sequence\", \"reference\", \"e-value\", \"score\", \"bias\", \"d-e-value\", \"d-score\", \"d-bias\"]"
   ]
  },
  {
   "cell_type": "code",
   "execution_count": 6,
   "metadata": {},
   "outputs": [
    {
     "output_type": "execute_result",
     "data": {
      "text/plain": [
       "                     sequence   reference       e-value  score  bias  \\\n",
       "0   sp|A0A193H397|CZS12_CRUCA  A0A5P9NYS6  2.700000e-42  135.1   3.8   \n",
       "1        sp|P81486|DRS4_PHYBI  A0A5P9NYS6  3.200000e-42  134.8   3.4   \n",
       "2        sp|P84597|DRS1_PITHY  A0A5P9NYS6  3.500000e-42  134.7   3.5   \n",
       "3    sp|A0A193H329|CZS8_CRUCA  A0A5P9NYS6  5.500000e-42  134.1   3.6   \n",
       "4    sp|A0A5P9K470|DRS2_AGASP  A0A5P9NYS6  5.500000e-42  134.1   4.7   \n",
       "..                        ...         ...           ...    ...   ...   \n",
       "68      sp|P69019|AUR25_RANAE  A0A5P9NYS6  4.200000e-31   99.2   2.7   \n",
       "69      sp|Q571V4|FRE31_NYCIN  A0A5P9NYS6  1.000000e-30   98.0   3.2   \n",
       "70      sp|P82390|AUR23_RANAE  A0A5P9NYS6  1.500000e-30   97.4   1.6   \n",
       "71      sp|L0L3V3|FRE21_SPHLA  A0A5P9NYS6  8.200000e-26   82.3  10.5   \n",
       "72      sp|C5J8E3|SAUVE_PHYSA  A0A5P9NYS6  1.300000e-23   75.2   1.6   \n",
       "\n",
       "       d-e-value  d-score  d-bias  \n",
       "0   3.000000e-42    134.9     3.8  \n",
       "1   3.500000e-42    134.7     3.4  \n",
       "2   3.800000e-42    134.6     3.5  \n",
       "3   6.000000e-42    134.0     3.6  \n",
       "4   6.000000e-42    133.9     4.7  \n",
       "..           ...      ...     ...  \n",
       "68  4.800000e-31     99.0     2.7  \n",
       "69  1.000000e-30     98.0     3.2  \n",
       "70  1.800000e-30     97.2     1.6  \n",
       "71  4.100000e-25     80.0    10.5  \n",
       "72  1.400000e-23     75.1     1.6  \n",
       "\n",
       "[73 rows x 8 columns]"
      ],
      "text/html": "<div>\n<style scoped>\n    .dataframe tbody tr th:only-of-type {\n        vertical-align: middle;\n    }\n\n    .dataframe tbody tr th {\n        vertical-align: top;\n    }\n\n    .dataframe thead th {\n        text-align: right;\n    }\n</style>\n<table border=\"1\" class=\"dataframe\">\n  <thead>\n    <tr style=\"text-align: right;\">\n      <th></th>\n      <th>sequence</th>\n      <th>reference</th>\n      <th>e-value</th>\n      <th>score</th>\n      <th>bias</th>\n      <th>d-e-value</th>\n      <th>d-score</th>\n      <th>d-bias</th>\n    </tr>\n  </thead>\n  <tbody>\n    <tr>\n      <th>0</th>\n      <td>sp|A0A193H397|CZS12_CRUCA</td>\n      <td>A0A5P9NYS6</td>\n      <td>2.700000e-42</td>\n      <td>135.1</td>\n      <td>3.8</td>\n      <td>3.000000e-42</td>\n      <td>134.9</td>\n      <td>3.8</td>\n    </tr>\n    <tr>\n      <th>1</th>\n      <td>sp|P81486|DRS4_PHYBI</td>\n      <td>A0A5P9NYS6</td>\n      <td>3.200000e-42</td>\n      <td>134.8</td>\n      <td>3.4</td>\n      <td>3.500000e-42</td>\n      <td>134.7</td>\n      <td>3.4</td>\n    </tr>\n    <tr>\n      <th>2</th>\n      <td>sp|P84597|DRS1_PITHY</td>\n      <td>A0A5P9NYS6</td>\n      <td>3.500000e-42</td>\n      <td>134.7</td>\n      <td>3.5</td>\n      <td>3.800000e-42</td>\n      <td>134.6</td>\n      <td>3.5</td>\n    </tr>\n    <tr>\n      <th>3</th>\n      <td>sp|A0A193H329|CZS8_CRUCA</td>\n      <td>A0A5P9NYS6</td>\n      <td>5.500000e-42</td>\n      <td>134.1</td>\n      <td>3.6</td>\n      <td>6.000000e-42</td>\n      <td>134.0</td>\n      <td>3.6</td>\n    </tr>\n    <tr>\n      <th>4</th>\n      <td>sp|A0A5P9K470|DRS2_AGASP</td>\n      <td>A0A5P9NYS6</td>\n      <td>5.500000e-42</td>\n      <td>134.1</td>\n      <td>4.7</td>\n      <td>6.000000e-42</td>\n      <td>133.9</td>\n      <td>4.7</td>\n    </tr>\n    <tr>\n      <th>...</th>\n      <td>...</td>\n      <td>...</td>\n      <td>...</td>\n      <td>...</td>\n      <td>...</td>\n      <td>...</td>\n      <td>...</td>\n      <td>...</td>\n    </tr>\n    <tr>\n      <th>68</th>\n      <td>sp|P69019|AUR25_RANAE</td>\n      <td>A0A5P9NYS6</td>\n      <td>4.200000e-31</td>\n      <td>99.2</td>\n      <td>2.7</td>\n      <td>4.800000e-31</td>\n      <td>99.0</td>\n      <td>2.7</td>\n    </tr>\n    <tr>\n      <th>69</th>\n      <td>sp|Q571V4|FRE31_NYCIN</td>\n      <td>A0A5P9NYS6</td>\n      <td>1.000000e-30</td>\n      <td>98.0</td>\n      <td>3.2</td>\n      <td>1.000000e-30</td>\n      <td>98.0</td>\n      <td>3.2</td>\n    </tr>\n    <tr>\n      <th>70</th>\n      <td>sp|P82390|AUR23_RANAE</td>\n      <td>A0A5P9NYS6</td>\n      <td>1.500000e-30</td>\n      <td>97.4</td>\n      <td>1.6</td>\n      <td>1.800000e-30</td>\n      <td>97.2</td>\n      <td>1.6</td>\n    </tr>\n    <tr>\n      <th>71</th>\n      <td>sp|L0L3V3|FRE21_SPHLA</td>\n      <td>A0A5P9NYS6</td>\n      <td>8.200000e-26</td>\n      <td>82.3</td>\n      <td>10.5</td>\n      <td>4.100000e-25</td>\n      <td>80.0</td>\n      <td>10.5</td>\n    </tr>\n    <tr>\n      <th>72</th>\n      <td>sp|C5J8E3|SAUVE_PHYSA</td>\n      <td>A0A5P9NYS6</td>\n      <td>1.300000e-23</td>\n      <td>75.2</td>\n      <td>1.6</td>\n      <td>1.400000e-23</td>\n      <td>75.1</td>\n      <td>1.6</td>\n    </tr>\n  </tbody>\n</table>\n<p>73 rows × 8 columns</p>\n</div>"
     },
     "metadata": {},
     "execution_count": 6
    }
   ],
   "source": [
    "df"
   ]
  },
  {
   "cell_type": "code",
   "execution_count": null,
   "metadata": {},
   "outputs": [],
   "source": []
  }
 ],
 "metadata": {
  "kernelspec": {
   "name": "python382jvsc74a57bd0aee8b7b246df8f9039afb4144a1f6fd8d2ca17a180786b69acc140d282b71a49",
   "display_name": "Python 3.8.2 64-bit"
  },
  "language_info": {
   "codemirror_mode": {
    "name": "ipython",
    "version": 3
   },
   "file_extension": ".py",
   "mimetype": "text/x-python",
   "name": "python",
   "nbconvert_exporter": "python",
   "pygments_lexer": "ipython3",
   "version": "3.8.2"
  },
  "metadata": {
   "interpreter": {
    "hash": "f8b8ae532ed32b3358b247aafd5c9e1fb45762e279a90e58bd2df5f4bac91337"
   }
  }
 },
 "nbformat": 4,
 "nbformat_minor": 2
}