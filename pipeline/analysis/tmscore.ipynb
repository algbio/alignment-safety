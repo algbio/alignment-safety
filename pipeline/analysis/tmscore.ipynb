{
 "cells": [
  {
   "cell_type": "code",
   "execution_count": 1,
   "metadata": {},
   "outputs": [],
   "source": [
    "import pandas as pd\n",
    "import numpy as np\n",
    "import glob\n",
    "import os\n",
    "\n",
    "import matplotlib.pyplot as plt\n",
    "import tqdm\n",
    "\n",
    "import sys\n",
    "sys.path.append(\"..\")\n",
    "\n",
    "from scripts.Safe import *"
   ]
  },
  {
   "cell_type": "code",
   "execution_count": 2,
   "metadata": {},
   "outputs": [],
   "source": [
    "def read_tmscore(path):\n",
    "    with open(path, \"r\") as f:\n",
    "        raw = f.read()\n",
    "        if raw.count(\"\\n\") < 2:\n",
    "            return (None, None, None)\n",
    "\n",
    "        spl = raw.split(\"\\n\")[1].split()\n",
    "        if spl[0] == \"There\":\n",
    "            return (None, None, None)\n",
    "\n",
    "        tm1 = float(spl[2])\n",
    "        tm2 = float(spl[3])\n",
    "        rmsd = float(spl[4])\n",
    "        return (tm1, tm2, rmsd)\n",
    "\n",
    "def parse_cluster_name(path):\n",
    "    return path.split(\"/\")[-4]\n",
    "\n",
    "def parse_seq_accession(path):\n",
    "    return path.split(\"/\")[-3]\n",
    "\n",
    "def read_tms(batch, work_dir, alpha, delta, safe_coverage_threshold=None):\n",
    "    tms = []\n",
    "    rmsds = []\n",
    "    cluster_name = parse_cluster_name(batch[0])\n",
    "    cluster = Cluster(f\"{work_dir}/safety.a{alpha}.d{delta}/{cluster_name}.out\")\n",
    "    for tm_file in tqdm.tqdm(batch):\n",
    "        _, tm, rmsd = read_tmscore(tm_file)\n",
    "        if tm == None:\n",
    "            continue\n",
    "        if safe_coverage_threshold != None:\n",
    "            if cluster_name != parse_cluster_name(tm_file):\n",
    "                cluster_name = parse_cluster_name(tm_file)\n",
    "                cluster = Cluster(f\"{work_dir}/safety.a{alpha}.d{delta}/{cluster_name}.out\")\n",
    "            sc = cluster.get(parse_seq_accession(tm_file)).safe_coverage\n",
    "            # print(sc)\n",
    "            # print(cluster_name)\n",
    "            if sc > safe_coverage_threshold:\n",
    "                continue\n",
    "\n",
    "        tms.append(tm)\n",
    "        rmsds.append(rmsd)\n",
    "\n",
    "    return (tms, rmsds)\n",
    "\n",
    "def read_scores(work_dir, alpha, delta, safe_coverage_threshold=None):\n",
    "    safes = sorted(glob.glob(os.path.join(work_dir, f\"tmscore.a{alpha}.d{delta}\", \"*\", \"*\", \"safe\", \"*.out\")))\n",
    "    unsafes = sorted(glob.glob(os.path.join(work_dir, f\"tmscore.a{alpha}.d{delta}\", \"*\", \"*\", \"unsafe\", \"*.out\")))\n",
    "\n",
    "    print(\"Reading safes\")\n",
    "    safe_tm, safe_rmsd = read_tms(safes, work_dir, alpha, delta, safe_coverage_threshold)\n",
    "    print(\"Reading non-safes\")\n",
    "    unsafe_tm, unsafe_rmsd = read_tms(unsafes, work_dir, alpha, delta, safe_coverage_threshold)\n",
    "\n",
    "    safe_df = pd.DataFrame(data={\"tm\":safe_tm, \"rmsd\": safe_rmsd})\n",
    "    unsafe_df = pd.DataFrame(data={\"tm\":unsafe_tm, \"rmsd\": unsafe_rmsd})\n",
    "    return (safe_df, unsafe_df)"
   ]
  },
  {
   "cell_type": "code",
   "execution_count": 3,
   "metadata": {},
   "outputs": [
    {
     "name": "stdout",
     "output_type": "stream",
     "text": [
      "Reading safes\n"
     ]
    },
    {
     "name": "stderr",
     "output_type": "stream",
     "text": [
      "100%|██████████| 242039/242039 [00:47<00:00, 5123.31it/s]\n"
     ]
    },
    {
     "name": "stdout",
     "output_type": "stream",
     "text": [
      "Reading non-safes\n"
     ]
    },
    {
     "name": "stderr",
     "output_type": "stream",
     "text": [
      "100%|██████████| 43886/43886 [00:19<00:00, 2303.19it/s]\n"
     ]
    },
    {
     "name": "stdout",
     "output_type": "stream",
     "text": [
      "Reading safes\n"
     ]
    },
    {
     "name": "stderr",
     "output_type": "stream",
     "text": [
      "100%|██████████| 248308/248308 [00:51<00:00, 4795.81it/s]\n"
     ]
    },
    {
     "name": "stdout",
     "output_type": "stream",
     "text": [
      "Reading non-safes\n"
     ]
    },
    {
     "name": "stderr",
     "output_type": "stream",
     "text": [
      "100%|██████████| 55475/55475 [00:21<00:00, 2525.78it/s]\n"
     ]
    },
    {
     "name": "stdout",
     "output_type": "stream",
     "text": [
      "Reading safes\n"
     ]
    },
    {
     "name": "stderr",
     "output_type": "stream",
     "text": [
      "100%|██████████| 252974/252974 [00:32<00:00, 7853.59it/s] \n"
     ]
    },
    {
     "name": "stdout",
     "output_type": "stream",
     "text": [
      "Reading non-safes\n"
     ]
    },
    {
     "name": "stderr",
     "output_type": "stream",
     "text": [
      "100%|██████████| 79331/79331 [00:17<00:00, 4446.02it/s]\n"
     ]
    },
    {
     "name": "stdout",
     "output_type": "stream",
     "text": [
      "Reading safes\n"
     ]
    },
    {
     "name": "stderr",
     "output_type": "stream",
     "text": [
      "100%|██████████| 160429/160429 [00:21<00:00, 7596.30it/s]\n"
     ]
    },
    {
     "name": "stdout",
     "output_type": "stream",
     "text": [
      "Reading non-safes\n"
     ]
    },
    {
     "name": "stderr",
     "output_type": "stream",
     "text": [
      "100%|██████████| 83774/83774 [00:13<00:00, 6083.76it/s]\n"
     ]
    },
    {
     "name": "stdout",
     "output_type": "stream",
     "text": [
      "Reading safes\n"
     ]
    },
    {
     "name": "stderr",
     "output_type": "stream",
     "text": [
      "100%|██████████| 108972/108972 [00:13<00:00, 8204.68it/s]\n"
     ]
    },
    {
     "name": "stdout",
     "output_type": "stream",
     "text": [
      "Reading non-safes\n"
     ]
    },
    {
     "name": "stderr",
     "output_type": "stream",
     "text": [
      "100%|██████████| 64619/64619 [00:09<00:00, 7110.85it/s]\n"
     ]
    },
    {
     "name": "stdout",
     "output_type": "stream",
     "text": [
      "Reading safes\n"
     ]
    },
    {
     "name": "stderr",
     "output_type": "stream",
     "text": [
      "100%|██████████| 174833/174833 [00:23<00:00, 7295.43it/s]\n"
     ]
    },
    {
     "name": "stdout",
     "output_type": "stream",
     "text": [
      "Reading non-safes\n"
     ]
    },
    {
     "name": "stderr",
     "output_type": "stream",
     "text": [
      "100%|██████████| 132487/132487 [00:18<00:00, 7083.59it/s]\n"
     ]
    }
   ],
   "source": [
    "def read_groups(path, alphas, deltas, safe_coverage_th=None):\n",
    "    groups = {}\n",
    "    for alpha in alphas:\n",
    "        for delta in deltas:\n",
    "            groups[(alpha, delta)] = read_scores(path, alpha, delta, safe_coverage_th)\n",
    "    return groups\n",
    "\n",
    "alphas = [75, 99]\n",
    "deltas = [8,10,15]\n",
    "\n",
    "groups = read_groups(\"./../out/clusters100.20.multi-step/\", alphas, deltas, 0.4)\n"
   ]
  },
  {
   "cell_type": "code",
   "execution_count": 15,
   "metadata": {},
   "outputs": [
    {
     "data": {
      "image/png": "[encoded data removed]",
      "text/plain": [
       "<Figure size 1080x360 with 1 Axes>"
      ]
     },
     "metadata": {
      "needs_background": "light"
     },
     "output_type": "display_data"
    }
   ],
   "source": [
    "def boxplot(groups, alphas, deltas, features):\n",
    "    fig, ax = plt.subplots(nrows=len(features), figsize=(15, 5))\n",
    "    for i, f in enumerate(features):\n",
    "        vals = []\n",
    "        labels = []\n",
    "        for a in alphas:\n",
    "            for d in deltas:\n",
    "                df1 = groups[(a, d)][0]\n",
    "                df2 = groups[(a, d)][1]\n",
    "                vals.append(df1[f].values)\n",
    "                vals.append(df2[f].values)\n",
    "                labels.append(f\"Safe a{a}.d{d}\")\n",
    "                labels.append(f\"Non safe a{a}.d{d}\")\n",
    "\n",
    "        if len(features) < 2:\n",
    "            ax.violinplot(vals, showmeans=True, showextrema=False)\n",
    "            ax.set_xticks(list(range(1,13)))\n",
    "            ax.set_xticklabels(labels, rotation=90)\n",
    "            ax.set_title(f)\n",
    "            if f != \"rmsd\":\n",
    "                ax.set_ylim([0,1])\n",
    "        else:\n",
    "            ax[i].violinplot(vals, showmeans=True, showextrema=False)\n",
    "            ax[i].set_xticks(list(range(1,13)))\n",
    "            ax[i].set_xticklabels(labels, rotation=90)\n",
    "            # ax[i].set_title(f)\n",
    "            if f != \"rmsd\":\n",
    "                ax[i].set_ylim([0,1])\n",
    "        \n",
    "    plt.show()\n",
    "\n",
    "boxplot(groups, alphas, deltas, [\"tm\"])"
   ]
  },
  {
   "cell_type": "code",
   "execution_count": null,
   "metadata": {},
   "outputs": [],
   "source": []
  }
 ],
 "metadata": {
  "interpreter": {
   "hash": "31f2aee4e71d21fbe5cf8b01ff0e069b9275f58929596ceb00d14d90e3e16cd6"
  },
  "kernelspec": {
   "display_name": "Python 3.8.9 64-bit",
   "language": "python",
   "name": "python3"
  },
  "language_info": {
   "codemirror_mode": {
    "name": "ipython",
    "version": 3
   },
   "file_extension": ".py",
   "mimetype": "text/x-python",
   "name": "python",
   "nbconvert_exporter": "python",
   "pygments_lexer": "ipython3",
   "version": "3.8.13"
  },
  "orig_nbformat": 4
 },
 "nbformat": 4,
 "nbformat_minor": 2
}
