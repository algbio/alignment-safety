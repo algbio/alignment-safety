{
 "cells": [
  {
   "cell_type": "code",
   "execution_count": 2,
   "metadata": {},
   "outputs": [],
   "source": [
    "import pandas as pd\n",
    "import numpy as np\n",
    "import glob\n",
    "import os\n",
    "\n",
    "import matplotlib.pyplot as plt\n",
    "import tqdm"
   ]
  },
  {
   "cell_type": "code",
   "execution_count": 6,
   "metadata": {},
   "outputs": [],
   "source": [
    "def read_tmscore(path):\n",
    "    with open(path, \"r\") as f:\n",
    "        raw = f.read()\n",
    "        if raw.count(\"\\n\") < 2:\n",
    "            return (None, None, None)\n",
    "\n",
    "        spl = raw.split(\"\\n\")[1].split()\n",
    "        if spl[0] == \"There\":\n",
    "            return (None, None, None)\n",
    "\n",
    "        tm1 = float(spl[2])\n",
    "        tm2 = float(spl[3])\n",
    "        rmsd = float(spl[4])\n",
    "        return (tm1, tm2, rmsd)\n",
    "\n",
    "\n",
    "def read_scores(work_dir, alpha, delta):\n",
    "    safes = glob.glob(os.path.join(work_dir, f\"tmscore.a{alpha}.d{delta}\", \"*\", \"*\", \"safe\", \"*.out\"))\n",
    "    unsafes = glob.glob(os.path.join(work_dir, f\"tmscore.a{alpha}.d{delta}\", \"*\", \"*\", \"unsafe\", \"*.out\"))\n",
    "    safe_tm1 = []\n",
    "    safe_tm2 = []\n",
    "    safe_rmsd = []\n",
    "    unsafe_tm1 = []\n",
    "    unsafe_tm2 = []\n",
    "    unsafe_rmsd = []\n",
    "    print(\"Reading safes\")\n",
    "    for safe in tqdm.tqdm(safes):\n",
    "        tm1, tm2, rmsd = read_tmscore(safe)\n",
    "        if tm1 == None:\n",
    "            continue\n",
    "        safe_tm1.append(tm1)\n",
    "        safe_tm2.append(tm2)\n",
    "        safe_rmsd.append(rmsd)\n",
    "    print(\"Reading non-safes\")\n",
    "    for unsafe in tqdm.tqdm(unsafes):\n",
    "        tm1, tm2, rmsd = read_tmscore(unsafe)\n",
    "        if tm1 == None:\n",
    "            continue\n",
    "        unsafe_tm1.append(tm1)\n",
    "        unsafe_tm2.append(tm2)\n",
    "        unsafe_rmsd.append(rmsd)\n",
    "\n",
    "    safe_df = pd.DataFrame(data={\"tm1\":safe_tm1, \"tm2\":safe_tm2, \"rmsd\": safe_rmsd})\n",
    "    unsafe_df = pd.DataFrame(data={\"tm1\":unsafe_tm1, \"tm2\":unsafe_tm2, \"rmsd\": unsafe_rmsd})\n",
    "    return (safe_df, unsafe_df)"
   ]
  },
  {
   "cell_type": "code",
   "execution_count": 14,
   "metadata": {},
   "outputs": [
    {
     "name": "stdout",
     "output_type": "stream",
     "text": [
      "Reading safes\n"
     ]
    },
    {
     "name": "stderr",
     "output_type": "stream",
     "text": [
      "100%|██████████| 242039/242039 [01:23<00:00, 2913.71it/s]\n"
     ]
    },
    {
     "name": "stdout",
     "output_type": "stream",
     "text": [
      "Reading non-safes\n"
     ]
    },
    {
     "name": "stderr",
     "output_type": "stream",
     "text": [
      "100%|██████████| 43886/43886 [00:17<00:00, 2468.28it/s]\n"
     ]
    },
    {
     "name": "stdout",
     "output_type": "stream",
     "text": [
      "Reading safes\n"
     ]
    },
    {
     "name": "stderr",
     "output_type": "stream",
     "text": [
      "100%|██████████| 248308/248308 [01:56<00:00, 2129.44it/s]\n"
     ]
    },
    {
     "name": "stdout",
     "output_type": "stream",
     "text": [
      "Reading non-safes\n"
     ]
    },
    {
     "name": "stderr",
     "output_type": "stream",
     "text": [
      "100%|██████████| 55475/55475 [00:31<00:00, 1752.45it/s]\n"
     ]
    }
   ],
   "source": [
    "def read_groups(path, alphas, deltas):\n",
    "    groups = {}\n",
    "    for alpha in alphas:\n",
    "        for delta in deltas:\n",
    "            groups[(alpha, delta)] = read_scores(path, alpha, delta)\n",
    "    return groups\n",
    "\n",
    "alphas = [75]\n",
    "deltas = [8,10]\n",
    "\n",
    "groups = read_groups(\"./../out/clusters100.20.multi-step/\", alphas, deltas)"
   ]
  },
  {
   "cell_type": "code",
   "execution_count": 15,
   "metadata": {},
   "outputs": [
    {
     "data": {
      "image/png": "[encoded data removed]",
      "text/plain": [
       "<Figure size 1080x1080 with 2 Axes>"
      ]
     },
     "metadata": {
      "needs_background": "light"
     },
     "output_type": "display_data"
    }
   ],
   "source": [
    "def boxplot(groups, alphas, deltas, features):\n",
    "    fig, ax = plt.subplots(nrows=len(features), figsize=(15, 15))\n",
    "    for i, f in enumerate(features):\n",
    "        vals = []\n",
    "        labels = []\n",
    "        for a in alphas:\n",
    "            for d in deltas:\n",
    "                df1 = groups[(a, d)][0]\n",
    "                df2 = groups[(a, d)][1]\n",
    "                vals.append(df1[f].values)\n",
    "                vals.append(df2[f].values)\n",
    "                labels.append(f\"Safe a{a}.d{d}\")\n",
    "                labels.append(f\"Non safe a{a}.d{d}\")\n",
    "\n",
    "        ax[i].boxplot(vals, showfliers=False)\n",
    "        ax[i].set_xticklabels(labels)\n",
    "        ax[i].set_title(f)\n",
    "        if f != \"rmsd\":\n",
    "            ax[i].set_ylim([0,1])\n",
    "        \n",
    "    plt.show()\n",
    "\n",
    "boxplot(groups, alphas, deltas, [\"tm2\", \"rmsd\"])"
   ]
  },
  {
   "cell_type": "code",
   "execution_count": null,
   "metadata": {},
   "outputs": [],
   "source": []
  }
 ],
 "metadata": {
  "interpreter": {
   "hash": "31f2aee4e71d21fbe5cf8b01ff0e069b9275f58929596ceb00d14d90e3e16cd6"
  },
  "kernelspec": {
   "display_name": "Python 3.8.9 64-bit",
   "language": "python",
   "name": "python3"
  },
  "language_info": {
   "codemirror_mode": {
    "name": "ipython",
    "version": 3
   },
   "file_extension": ".py",
   "mimetype": "text/x-python",
   "name": "python",
   "nbconvert_exporter": "python",
   "pygments_lexer": "ipython3",
   "version": "3.8.0"
  },
  "orig_nbformat": 4
 },
 "nbformat": 4,
 "nbformat_minor": 2
}
