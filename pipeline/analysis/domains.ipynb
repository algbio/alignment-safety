{
 "cells": [
  {
   "cell_type": "code",
   "execution_count": 1,
   "metadata": {},
   "outputs": [],
   "source": [
    "import pandas as pd\n",
    "import numpy as np\n",
    "import glob"
   ]
  },
  {
   "cell_type": "code",
   "execution_count": 79,
   "metadata": {},
   "outputs": [],
   "source": [
    "def clean_column_ids(df, col):\n",
    "    return df[col].map(lambda x: x.split(\"|\")[1])\n",
    "\n",
    "def parse_fasta(protein_fasta):\n",
    "    id = protein_fasta.split(\"\\n\")[0]\n",
    "    sequence = ''.join(protein_fasta.split(\"\\n\")[1:])\n",
    "    return (id, sequence)"
   ]
  },
  {
   "cell_type": "code",
   "execution_count": 81,
   "metadata": {},
   "outputs": [],
   "source": [
    "def read_fasta(path):\n",
    "    db_fasta = \"\"\n",
    "    with open(path, \"r\") as f:\n",
    "        db_fasta = (\"\\n\" + f.read()).split(\"\\n>\")[1:]\n",
    "    a = []\n",
    "    for protein_fasta in db_fasta:\n",
    "        id, seq = parse_fasta(protein_fasta)\n",
    "        id = id.split(\"|\")[1]\n",
    "        a.append((id, seq, len(seq)))\n",
    "    return pd.DataFrame(a, columns=[\"seq\", \"str\", \"seqlen\"]).set_index(\"seq\").rename_axis(index=None)\n",
    "\n",
    "def read_family(path, drop_duplicates=True):\n",
    "    df = None\n",
    "    try:\n",
    "        df = pd.read_csv(path, delimiter=r\"\\s+\", comment=\"#\", usecols=[0,2,4,5,6,17], header=None)\n",
    "    except pd.errors.EmptyDataError:\n",
    "        return pd.DataFrame(columns=[\"family\", \"seq\", \"f_eval\", \"f_score\", \"f_bias\", \"n_dom\"])\n",
    "    df.columns = [\"family\", \"seq\", \"f_eval\", \"f_score\", \"f_bias\", \"n_dom\"]\n",
    "    df[\"seq\"] = clean_column_ids(df, \"seq\")\n",
    "    if drop_duplicates:\n",
    "        df.sort_values(by=\"f_score\", inplace=True, ascending=False)\n",
    "        df.drop_duplicates(subset=[\"seq\"], keep=\"first\", inplace=True)\n",
    "    df.set_index(\"seq\", inplace=True)\n",
    "    return df"
   ]
  },
  {
   "cell_type": "code",
   "execution_count": 76,
   "metadata": {},
   "outputs": [],
   "source": [
    "def check_cluster(df):\n",
    "    ids = df[~df.index.duplicated(keep=\"first\")].index\n",
    "    domains = {}\n",
    "    for id in ids:\n",
    "        val = df.loc[id][\"family\"]\n",
    "        if type(val) == str:\n",
    "            domains[id] = [val]\n",
    "        else:\n",
    "            domains[id] = val.to_numpy().tolist()\n",
    "    return domains\n",
    "\n",
    "def find_multidomain_clusters(path):\n",
    "    fam_files = sorted(glob.glob(path))\n",
    "    md_clusters = []\n",
    "    for file in fam_files:\n",
    "        df = read_family(file, drop_duplicates=False)\n",
    "\n",
    "    return md_clusters\n",
    "\n",
    "# md_clusters = find_multidomain_clusters(\"./../out/soybean.30.multi-step/hmmscan/cluster_*.out\")\n",
    "# len(md_clusters)"
   ]
  },
  {
   "cell_type": "code",
   "execution_count": 92,
   "metadata": {},
   "outputs": [
    {
     "data": {
      "text/plain": [
       "(59, 5)"
      ]
     },
     "execution_count": 92,
     "metadata": {},
     "output_type": "execute_result"
    }
   ],
   "source": [
    "df = read_family(\"./../out/soybean.30.multi-step/hmmscan/cluster_4.out\", drop_duplicates=False)\n",
    "check_cluster(df)\n",
    "df.shape"
   ]
  }
 ],
 "metadata": {
  "interpreter": {
   "hash": "0d667b8981192658d725f91984141bf4caf291e3526d43f45c54a266d5430e67"
  },
  "kernelspec": {
   "display_name": "Python 3.9.5 64-bit ('pipeline': conda)",
   "name": "python3"
  },
  "language_info": {
   "codemirror_mode": {
    "name": "ipython",
    "version": 3
   },
   "file_extension": ".py",
   "mimetype": "text/x-python",
   "name": "python",
   "nbconvert_exporter": "python",
   "pygments_lexer": "ipython3",
   "version": "3.9.5"
  },
  "orig_nbformat": 4
 },
 "nbformat": 4,
 "nbformat_minor": 2
}
