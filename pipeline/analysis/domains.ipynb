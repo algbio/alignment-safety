{
 "cells": [
  {
   "cell_type": "code",
   "execution_count": 12,
   "metadata": {},
   "outputs": [],
   "source": [
    "import pandas as pd\n",
    "import numpy as np\n",
    "import glob\n",
    "from IPython.display import clear_output, display\n",
    "import pymol\n",
    "from IPython.display import Image"
   ]
  },
  {
   "cell_type": "code",
   "execution_count": 2,
   "metadata": {},
   "outputs": [],
   "source": [
    "def clean_column_ids(df, col):\n",
    "    return df[col].map(lambda x: x.split(\"|\")[1])\n",
    "\n",
    "def parse_fasta(protein_fasta):\n",
    "    id = protein_fasta.split(\"\\n\")[0]\n",
    "    sequence = ''.join(protein_fasta.split(\"\\n\")[1:])\n",
    "    return (id, sequence)"
   ]
  },
  {
   "cell_type": "code",
   "execution_count": 3,
   "metadata": {},
   "outputs": [],
   "source": [
    "def read_fasta(path):\n",
    "    db_fasta = \"\"\n",
    "    with open(path, \"r\") as f:\n",
    "        db_fasta = (\"\\n\" + f.read()).split(\"\\n>\")[1:]\n",
    "    a = []\n",
    "    for protein_fasta in db_fasta:\n",
    "        id, seq = parse_fasta(protein_fasta)\n",
    "        id = id.split(\"|\")[1]\n",
    "        a.append((id, seq, len(seq)))\n",
    "    return pd.DataFrame(a, columns=[\"seq\", \"str\", \"seqlen\"]).set_index(\"seq\").rename_axis(index=None)\n",
    "\n",
    "def read_family(path, drop_duplicates=True):\n",
    "    df = None\n",
    "    try:\n",
    "        df = pd.read_csv(path, delimiter=r\"\\s+\", comment=\"#\", usecols=[0,2,4,5,6,17], header=None)\n",
    "    except pd.errors.EmptyDataError:\n",
    "        return pd.DataFrame(columns=[\"family\", \"seq\", \"f_eval\", \"f_score\", \"f_bias\", \"n_dom\"])\n",
    "    df.columns = [\"family\", \"seq\", \"f_eval\", \"f_score\", \"f_bias\", \"n_dom\"]\n",
    "    df[\"seq\"] = clean_column_ids(df, \"seq\")\n",
    "    if drop_duplicates:\n",
    "        df.sort_values(by=\"f_score\", inplace=True, ascending=False)\n",
    "        df.drop_duplicates(subset=[\"seq\"], keep=\"first\", inplace=True)\n",
    "    df.set_index(\"seq\", inplace=True)\n",
    "    return df"
   ]
  },
  {
   "cell_type": "code",
   "execution_count": 4,
   "metadata": {},
   "outputs": [],
   "source": [
    "def get_fams(df):\n",
    "    ids = df[~df.index.duplicated(keep=\"first\")].index\n",
    "    seq_fams = {}\n",
    "    fam_seqs = {}\n",
    "    for id in ids:\n",
    "        val = df.loc[id][\"family\"]\n",
    "        if type(val) == str:\n",
    "            if not val in fam_seqs.keys():\n",
    "                fam_seqs[val] = []\n",
    "            fam_seqs[val].append(id)\n",
    "            seq_fams[id] = [val]\n",
    "        else:\n",
    "            fams = val.to_numpy().tolist()\n",
    "            seq_fams[id] = fams\n",
    "            for fam in fams:\n",
    "                if not fam in fam_seqs.keys():\n",
    "                    fam_seqs[fam] = []\n",
    "                fam_seqs[fam].append(id)\n",
    "    return (seq_fams, fam_seqs)\n",
    "\n",
    "def cluster_domains(seq_fams, fam_seqs):\n",
    "    nodes = []\n",
    "    edges = []\n",
    "    for seq1 in seq_fams.keys():\n",
    "        for fam in seq_fams[seq1]:\n",
    "            for seq2 in fam_seqs[fam]:\n",
    "                if seq1 != seq2 and (seq2, seq1) not in edges:\n",
    "                    edges.append((seq1, seq2))\n",
    "    return edges\n",
    "\n",
    "# md_clusters = find_multidomain_clusters(\"./../out/soybean.30.multi-step/hmmscan/cluster_*.out\")\n",
    "# len(md_clusters)"
   ]
  },
  {
   "cell_type": "code",
   "execution_count": 5,
   "metadata": {},
   "outputs": [],
   "source": [
    "class UnionFind:\n",
    "    def __init__(self):\n",
    "        self.parent = {}\n",
    "        self.rank = {}\n",
    "        self.num_sets = 0\n",
    "\n",
    "    def make_set(self, element):\n",
    "        if not element in self.parent.values():\n",
    "            self.parent[element] = None\n",
    "            self.rank[element] = 0\n",
    "            self.num_sets += 1\n",
    "            return True\n",
    "        return False\n",
    "\n",
    "    def find_set(self, element):\n",
    "        assert element in self.parent.keys(), \"Element not found in parent\"\n",
    "        e = element\n",
    "        while(self.parent[e] != None):\n",
    "            e = self.parent[e]\n",
    "        return e\n",
    "    \n",
    "    def union(self, element1, element2):\n",
    "        x = self.find_set(element1)\n",
    "        y = self.find_set(element2)\n",
    "        if x != y:\n",
    "            self.parent[y] = x\n",
    "            self.num_sets -= 1\n",
    "\n",
    "\n",
    "def solve(edges, nodes):\n",
    "    sets = UnionFind()\n",
    "    for node in nodes:\n",
    "        sets.make_set(node)\n",
    "    for (n1, n2) in edges:\n",
    "        sets.union(n1, n2)\n",
    "    return sets"
   ]
  },
  {
   "cell_type": "code",
   "execution_count": 7,
   "metadata": {},
   "outputs": [],
   "source": [
    "def find_multidomain_clusters(path):\n",
    "    fam_files = sorted(glob.glob(path))\n",
    "    md_clusters = {}\n",
    "    i = 1.0\n",
    "    for file in fam_files:\n",
    "        df = read_family(file, drop_duplicates=False)\n",
    "        sf, fs = get_fams(df)\n",
    "        edges = cluster_domains(sf, fs)\n",
    "        nodes = list(sf.keys())\n",
    "        s = solve(edges, nodes)\n",
    "        clear_output(wait=True)\n",
    "        display(f\"{i/len(fam_files)*100:.2f}%\")\n",
    "        i+=1\n",
    "        if s.num_sets > 1:\n",
    "            md_clusters[file.split(\"/\")[-1]] = df\n",
    "\n",
    "    return md_clusters"
   ]
  },
  {
   "cell_type": "code",
   "execution_count": 8,
   "metadata": {},
   "outputs": [
    {
     "data": {
      "text/plain": [
       "'100.00%'"
      ]
     },
     "metadata": {},
     "output_type": "display_data"
    }
   ],
   "source": [
    "mds = find_multidomain_clusters(\"./../out/soybean.30.multi-step/hmmscan/*.out\")"
   ]
  },
  {
   "cell_type": "code",
   "execution_count": 77,
   "metadata": {},
   "outputs": [
    {
     "name": "stdout",
     "output_type": "stream",
     "text": [
      "6\n"
     ]
    },
    {
     "data": {
      "text/html": [
       "<div>\n",
       "<style scoped>\n",
       "    .dataframe tbody tr th:only-of-type {\n",
       "        vertical-align: middle;\n",
       "    }\n",
       "\n",
       "    .dataframe tbody tr th {\n",
       "        vertical-align: top;\n",
       "    }\n",
       "\n",
       "    .dataframe thead th {\n",
       "        text-align: right;\n",
       "    }\n",
       "</style>\n",
       "<table border=\"1\" class=\"dataframe\">\n",
       "  <thead>\n",
       "    <tr style=\"text-align: right;\">\n",
       "      <th></th>\n",
       "      <th>family</th>\n",
       "      <th>f_eval</th>\n",
       "      <th>f_score</th>\n",
       "      <th>f_bias</th>\n",
       "      <th>n_dom</th>\n",
       "    </tr>\n",
       "    <tr>\n",
       "      <th>seq</th>\n",
       "      <th></th>\n",
       "      <th></th>\n",
       "      <th></th>\n",
       "      <th></th>\n",
       "      <th></th>\n",
       "    </tr>\n",
       "  </thead>\n",
       "  <tbody>\n",
       "    <tr>\n",
       "      <th>I1KY15</th>\n",
       "      <td>Acyltransferase</td>\n",
       "      <td>1.300000e-11</td>\n",
       "      <td>44.6</td>\n",
       "      <td>0.0</td>\n",
       "      <td>1</td>\n",
       "    </tr>\n",
       "    <tr>\n",
       "      <th>A0A0R0FCN2</th>\n",
       "      <td>HAD</td>\n",
       "      <td>6.400000e-23</td>\n",
       "      <td>82.3</td>\n",
       "      <td>0.0</td>\n",
       "      <td>1</td>\n",
       "    </tr>\n",
       "    <tr>\n",
       "      <th>A0A0R0KQF9</th>\n",
       "      <td>HAD</td>\n",
       "      <td>6.700000e-20</td>\n",
       "      <td>72.4</td>\n",
       "      <td>0.0</td>\n",
       "      <td>1</td>\n",
       "    </tr>\n",
       "    <tr>\n",
       "      <th>I1JK69</th>\n",
       "      <td>HAD</td>\n",
       "      <td>2.900000e-22</td>\n",
       "      <td>80.1</td>\n",
       "      <td>0.0</td>\n",
       "      <td>1</td>\n",
       "    </tr>\n",
       "    <tr>\n",
       "      <th>I1JJ43</th>\n",
       "      <td>Acyltransferase</td>\n",
       "      <td>8.000000e-11</td>\n",
       "      <td>42.0</td>\n",
       "      <td>0.0</td>\n",
       "      <td>1</td>\n",
       "    </tr>\n",
       "    <tr>\n",
       "      <th>I1N0X0</th>\n",
       "      <td>Acyltransferase</td>\n",
       "      <td>4.400000e-11</td>\n",
       "      <td>42.8</td>\n",
       "      <td>0.0</td>\n",
       "      <td>1</td>\n",
       "    </tr>\n",
       "    <tr>\n",
       "      <th>I1LAF4</th>\n",
       "      <td>HAD</td>\n",
       "      <td>1.300000e-22</td>\n",
       "      <td>81.2</td>\n",
       "      <td>0.0</td>\n",
       "      <td>1</td>\n",
       "    </tr>\n",
       "    <tr>\n",
       "      <th>I1KKB5</th>\n",
       "      <td>HAD</td>\n",
       "      <td>7.800000e-23</td>\n",
       "      <td>82.0</td>\n",
       "      <td>0.0</td>\n",
       "      <td>1</td>\n",
       "    </tr>\n",
       "    <tr>\n",
       "      <th>I1J788</th>\n",
       "      <td>HAD</td>\n",
       "      <td>2.600000e-21</td>\n",
       "      <td>77.0</td>\n",
       "      <td>0.0</td>\n",
       "      <td>1</td>\n",
       "    </tr>\n",
       "    <tr>\n",
       "      <th>I1NED2</th>\n",
       "      <td>HAD</td>\n",
       "      <td>5.300000e-23</td>\n",
       "      <td>82.5</td>\n",
       "      <td>0.0</td>\n",
       "      <td>1</td>\n",
       "    </tr>\n",
       "    <tr>\n",
       "      <th>I1KI92</th>\n",
       "      <td>HAD</td>\n",
       "      <td>4.400000e-21</td>\n",
       "      <td>76.3</td>\n",
       "      <td>0.0</td>\n",
       "      <td>1</td>\n",
       "    </tr>\n",
       "  </tbody>\n",
       "</table>\n",
       "</div>"
      ],
      "text/plain": [
       "                     family        f_eval  f_score  f_bias  n_dom\n",
       "seq                                                              \n",
       "I1KY15      Acyltransferase  1.300000e-11     44.6     0.0      1\n",
       "A0A0R0FCN2              HAD  6.400000e-23     82.3     0.0      1\n",
       "A0A0R0KQF9              HAD  6.700000e-20     72.4     0.0      1\n",
       "I1JK69                  HAD  2.900000e-22     80.1     0.0      1\n",
       "I1JJ43      Acyltransferase  8.000000e-11     42.0     0.0      1\n",
       "I1N0X0      Acyltransferase  4.400000e-11     42.8     0.0      1\n",
       "I1LAF4                  HAD  1.300000e-22     81.2     0.0      1\n",
       "I1KKB5                  HAD  7.800000e-23     82.0     0.0      1\n",
       "I1J788                  HAD  2.600000e-21     77.0     0.0      1\n",
       "I1NED2                  HAD  5.300000e-23     82.5     0.0      1\n",
       "I1KI92                  HAD  4.400000e-21     76.3     0.0      1"
      ]
     },
     "execution_count": 77,
     "metadata": {},
     "output_type": "execute_result"
    }
   ],
   "source": [
    "print(len(mds))\n",
    "list(mds.values())[0]"
   ]
  },
  {
   "cell_type": "code",
   "execution_count": 72,
   "metadata": {},
   "outputs": [
    {
     "name": "stdout",
     "output_type": "stream",
     "text": [
      " ExecutiveLoad-Detail: Detected mmCIF\n",
      " ExecutiveLoad-Detail: Detected mmCIF\n",
      " ExecutiveLoad-Detail: Detected mmCIF\n",
      " ExecutiveLoad-Detail: Detected mmCIF\n",
      " ExecutiveLoad-Detail: Detected mmCIF\n",
      " ExecutiveLoad-Detail: Detected mmCIF\n",
      " ExecutiveLoad-Detail: Detected mmCIF\n"
     ]
    }
   ],
   "source": [
    "from pymol import cmd\n",
    "cmd.delete(\"all\")\n",
    "cmd.load(\"../data/alphafold/soybean/AF-I1JK69-F1-model_v1.cif\")\n",
    "cmd.load(\"../data/alphafold/soybean/AF-A0A0R0FCN2-F1-model_v1.cif\")\n",
    "cmd.load(\"../data/alphafold/soybean/AF-A0A0R0KQF9-F1-model_v1.cif\")\n",
    "cmd.load(\"../data/alphafold/soybean/AF-I1LAF4-F1-model_v1.cif\")\n",
    "cmd.alignto(\"AF-I1LAF4-F1-model_v1\")\n",
    "cmd.orient()\n",
    "cmd.save(\"HAD.pdb\")\n",
    "cmd.save(\"HAD.cif\")\n",
    "\n",
    "cmd.delete(\"all\")\n",
    "cmd.load(\"../data/alphafold/soybean/AF-I1KY15-F1-model_v1.cif\")\n",
    "cmd.load(\"../data/alphafold/soybean/AF-I1JJ43-F1-model_v1.cif\")\n",
    "cmd.load(\"../data/alphafold/soybean/AF-I1N0X0-F1-model_v1.cif\")\n",
    "cmd.alignto(\"AF-I1N0X0-F1-model_v1\")\n",
    "cmd.orient()\n",
    "cmd.save(\"Acyltransferase.cif\")\n",
    "cmd.save(\"Acyltransferase.pdb\")\n",
    "# cmd.png(\"../temp/family.png\", ray=1, dpi=1600)\n",
    "# Image(filename=\"../temp/family.png\")\n"
   ]
  },
  {
   "cell_type": "code",
   "execution_count": 73,
   "metadata": {},
   "outputs": [
    {
     "data": {
      "application/vnd.jupyter.widget-view+json": {
       "model_id": "132e77037df4417fb9e1228253389e35",
       "version_major": 2,
       "version_minor": 0
      },
      "text/plain": [
       "NGLWidget()"
      ]
     },
     "metadata": {},
     "output_type": "display_data"
    }
   ],
   "source": [
    "import nglview as nv\n",
    "view = nv.show_structure_file(\"HAD.pdb\")\n",
    "view"
   ]
  },
  {
   "cell_type": "code",
   "execution_count": 74,
   "metadata": {},
   "outputs": [
    {
     "data": {
      "application/vnd.jupyter.widget-view+json": {
       "model_id": "3272d6b47e3445b7abfa9a284e07213e",
       "version_major": 2,
       "version_minor": 0
      },
      "text/plain": [
       "NGLWidget()"
      ]
     },
     "metadata": {},
     "output_type": "display_data"
    }
   ],
   "source": [
    "view = nv.show_structure_file(\"Acyltransferase.pdb\")\n",
    "view"
   ]
  },
  {
   "cell_type": "code",
   "execution_count": null,
   "metadata": {},
   "outputs": [],
   "source": []
  }
 ],
 "metadata": {
  "interpreter": {
   "hash": "17545456340c4bcaadc5cb316c8be492a62049e376ea32db3c4deefb534493aa"
  },
  "kernelspec": {
   "display_name": "Python 3.8.0 64-bit ('pl': conda)",
   "name": "python3"
  },
  "language_info": {
   "codemirror_mode": {
    "name": "ipython",
    "version": 3
   },
   "file_extension": ".py",
   "mimetype": "text/x-python",
   "name": "python",
   "nbconvert_exporter": "python",
   "pygments_lexer": "ipython3",
   "version": "3.8.0"
  },
  "orig_nbformat": 4
 },
 "nbformat": 4,
 "nbformat_minor": 2
}
