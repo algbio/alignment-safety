{
 "cells": [
  {
   "cell_type": "code",
   "execution_count": 3,
   "metadata": {},
   "outputs": [],
   "source": [
    "import pandas as pd\n",
    "import shutil\n",
    "import gzip\n",
    "\n",
    "import os"
   ]
  },
  {
   "cell_type": "code",
   "execution_count": 2,
   "metadata": {},
   "outputs": [],
   "source": [
    "def parse_fasta(protein_fasta):\n",
    "    id = protein_fasta.split()[0]\n",
    "    sequence = ''.join(protein_fasta.split(\"\\n\")[1:])\n",
    "    return (id, sequence)\n",
    "\n",
    "def get_pdb(accession_id):\n",
    "    if not os.path.isfile(f\"./../data/alphafold/pdb_HUMAN/AF-{accession_id}-F1-model_v1.pdb\"):\n",
    "        with gzip.open(f\"./../data/alphafold/pdb_HUMAN/AF-{accession_id}-F1-model_v1.pdb.gz\", \"rb\") as gz:\n",
    "            with open(f\"./../data/alphafold/pdb_HUMAN/AF-{accession_id}-F1-model_v1.pdb\", \"wb\") as pdb:\n",
    "                shutil.copyfileobj(gz, pdb)\n",
    "\n",
    "    shutil.copyfile(\n",
    "        f\"./../data/alphafold/pdb_HUMAN/AF-{accession_id}-F1-model_v1.pdb\",\n",
    "        f\"./../data/alphafold/pdb_HUMAN/AF-{accession_id}-F1-model_v1.pdb\"\n",
    "    )\n",
    "\n",
    "def get_pdbs(fasta_file):\n",
    "    with open(fasta_file, \"r\") as f:\n",
    "        db_fasta = (\"\\n\" + f.read()).split(\"\\n>\")[1:]\n",
    "        for protein in db_fasta:\n",
    "            protein_id, sequence = parse_fasta(protein)\n",
    "            clean_id = protein_id.split(\"|\")[1]\n",
    "            get_pdb(clean_id)"
   ]
  },
  {
   "cell_type": "code",
   "execution_count": null,
   "metadata": {},
   "outputs": [],
   "source": []
  }
 ],
 "metadata": {
  "interpreter": {
   "hash": "17545456340c4bcaadc5cb316c8be492a62049e376ea32db3c4deefb534493aa"
  },
  "kernelspec": {
   "display_name": "Python 3.8.0 64-bit ('pl': conda)",
   "language": "python",
   "name": "python3"
  },
  "language_info": {
   "codemirror_mode": {
    "name": "ipython",
    "version": 3
   },
   "file_extension": ".py",
   "mimetype": "text/x-python",
   "name": "python",
   "nbconvert_exporter": "python",
   "pygments_lexer": "ipython3",
   "version": "3.8.0"
  },
  "orig_nbformat": 4
 },
 "nbformat": 4,
 "nbformat_minor": 2
}
